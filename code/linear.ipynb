{
 "cells": [
  {
   "attachments": {},
   "cell_type": "markdown",
   "metadata": {},
   "source": [
    "## Linear Regression model in Python"
   ]
  },
  {
   "cell_type": "code",
   "execution_count": 17,
   "metadata": {},
   "outputs": [],
   "source": [
    "import warnings\n",
    "warnings.simplefilter('ignore')\n",
    "\n",
    "import numpy as np\n",
    "import pandas as pd\n",
    "import seaborn as sns\n",
    "import matplotlib.pyplot as plt\n",
    "\n",
    "from sklearn.preprocessing import  LabelEncoder, StandardScaler\n",
    "from sklearn.model_selection import train_test_split, GridSearchCV, cross_val_score, KFold\n",
    "from sklearn import metrics\n",
    "from sklearn.linear_model import LinearRegression\n",
    "from sklearn.preprocessing import PolynomialFeatures\n",
    "from sklearn.pipeline import make_pipeline\n",
    "from sklearn.linear_model import LinearRegression\n",
    "from sklearn.metrics import r2_score\n",
    "from sklearn.model_selection import GridSearchCV\n",
    "from sklearn.linear_model import Lasso\n",
    "from sklearn.linear_model import Ridge\n",
    "from sklearn.feature_selection import RFE\n",
    "from sklearn.pipeline import Pipeline"
   ]
  },
  {
   "cell_type": "code",
   "execution_count": 18,
   "metadata": {},
   "outputs": [
    {
     "data": {
      "text/plain": [
       "0    6.315012\n",
       "1    5.622288\n",
       "2    5.529095\n",
       "3    5.767196\n",
       "4    6.890906\n",
       "Name: Price, dtype: float64"
      ]
     },
     "execution_count": 18,
     "metadata": {},
     "output_type": "execute_result"
    }
   ],
   "source": [
    "### read the train, test, dev dataset\n",
    "#train data\n",
    "train_df = pd.read_csv(\"../data/train.csv\")\n",
    "train_df = train_df.drop(\"Unnamed: 0\",axis=1)\n",
    "x_train = train_df.drop(\"Price\",axis=1)\n",
    "x_train = x_train.select_dtypes(include=['int', 'float'])  #only regression for the numeric,remove all the other type data\n",
    "y_train = np.log(train_df[\"Price\"])  #price is the final goal we need to predict\n",
    "x_train.head()\n",
    "y_train.head()\n",
    "\n",
    "#test data\n",
    "test_df = pd.read_csv(\"../data/test.csv\")\n",
    "test_df = test_df.drop(\"Unnamed: 0\",axis=1)\n",
    "x_test = test_df.drop(\"Price\",axis=1)\n",
    "x_test = x_test.select_dtypes(include=['int', 'float'])\n",
    "y_test = np.log(test_df[\"Price\"])\n",
    "x_test.head()\n",
    "y_test.head()\n",
    "\n",
    "#dev data\n",
    "dev_df = pd.read_csv(\"../data/dev.csv\")\n",
    "dev_df = dev_df.drop(\"Unnamed: 0\",axis=1)\n",
    "x_dev = dev_df.drop(\"Price\",axis=1)\n",
    "x_dev = x_dev.select_dtypes(include=['int', 'float'])\n",
    "y_dev = np.log(dev_df[\"Price\"])\n",
    "x_dev.head()\n",
    "y_dev.head()\n"
   ]
  },
  {
   "cell_type": "code",
   "execution_count": 19,
   "metadata": {},
   "outputs": [
    {
     "data": {
      "text/html": [
       "<div>\n",
       "<style scoped>\n",
       "    .dataframe tbody tr th:only-of-type {\n",
       "        vertical-align: middle;\n",
       "    }\n",
       "\n",
       "    .dataframe tbody tr th {\n",
       "        vertical-align: top;\n",
       "    }\n",
       "\n",
       "    .dataframe thead th {\n",
       "        text-align: right;\n",
       "    }\n",
       "</style>\n",
       "<table border=\"1\" class=\"dataframe\">\n",
       "  <thead>\n",
       "    <tr style=\"text-align: right;\">\n",
       "      <th></th>\n",
       "      <th>Person.Capacity</th>\n",
       "      <th>Multiple.Rooms</th>\n",
       "      <th>Business</th>\n",
       "      <th>Cleanliness.Rating</th>\n",
       "      <th>Guest.Satisfaction</th>\n",
       "      <th>Bedrooms</th>\n",
       "      <th>City.Center..km.</th>\n",
       "      <th>Metro.Distance..km.</th>\n",
       "      <th>Attraction.Index</th>\n",
       "      <th>Normalised.Attraction.Index</th>\n",
       "      <th>Restraunt.Index</th>\n",
       "      <th>Normalised.Restraunt.Index</th>\n",
       "    </tr>\n",
       "  </thead>\n",
       "  <tbody>\n",
       "    <tr>\n",
       "      <th>0</th>\n",
       "      <td>4</td>\n",
       "      <td>0</td>\n",
       "      <td>0</td>\n",
       "      <td>8</td>\n",
       "      <td>85</td>\n",
       "      <td>1</td>\n",
       "      <td>0.488389</td>\n",
       "      <td>0.239404</td>\n",
       "      <td>631.176378</td>\n",
       "      <td>33.421209</td>\n",
       "      <td>837.280757</td>\n",
       "      <td>58.342928</td>\n",
       "    </tr>\n",
       "    <tr>\n",
       "      <th>1</th>\n",
       "      <td>2</td>\n",
       "      <td>0</td>\n",
       "      <td>1</td>\n",
       "      <td>9</td>\n",
       "      <td>87</td>\n",
       "      <td>1</td>\n",
       "      <td>5.748312</td>\n",
       "      <td>3.651621</td>\n",
       "      <td>75.275877</td>\n",
       "      <td>3.985908</td>\n",
       "      <td>95.386955</td>\n",
       "      <td>6.646700</td>\n",
       "    </tr>\n",
       "    <tr>\n",
       "      <th>2</th>\n",
       "      <td>2</td>\n",
       "      <td>0</td>\n",
       "      <td>0</td>\n",
       "      <td>10</td>\n",
       "      <td>98</td>\n",
       "      <td>1</td>\n",
       "      <td>0.544738</td>\n",
       "      <td>0.318693</td>\n",
       "      <td>552.830324</td>\n",
       "      <td>29.272733</td>\n",
       "      <td>815.305740</td>\n",
       "      <td>56.811677</td>\n",
       "    </tr>\n",
       "    <tr>\n",
       "      <th>3</th>\n",
       "      <td>4</td>\n",
       "      <td>0</td>\n",
       "      <td>0</td>\n",
       "      <td>9</td>\n",
       "      <td>96</td>\n",
       "      <td>2</td>\n",
       "      <td>3.719141</td>\n",
       "      <td>1.196112</td>\n",
       "      <td>106.226456</td>\n",
       "      <td>5.624761</td>\n",
       "      <td>133.876202</td>\n",
       "      <td>9.328686</td>\n",
       "    </tr>\n",
       "    <tr>\n",
       "      <th>4</th>\n",
       "      <td>2</td>\n",
       "      <td>0</td>\n",
       "      <td>0</td>\n",
       "      <td>10</td>\n",
       "      <td>96</td>\n",
       "      <td>1</td>\n",
       "      <td>1.009922</td>\n",
       "      <td>0.917115</td>\n",
       "      <td>409.858124</td>\n",
       "      <td>21.702260</td>\n",
       "      <td>555.114276</td>\n",
       "      <td>38.681161</td>\n",
       "    </tr>\n",
       "  </tbody>\n",
       "</table>\n",
       "</div>"
      ],
      "text/plain": [
       "   Person.Capacity  Multiple.Rooms  Business  Cleanliness.Rating  \\\n",
       "0                4               0         0                   8   \n",
       "1                2               0         1                   9   \n",
       "2                2               0         0                  10   \n",
       "3                4               0         0                   9   \n",
       "4                2               0         0                  10   \n",
       "\n",
       "   Guest.Satisfaction  Bedrooms  City.Center..km.  Metro.Distance..km.  \\\n",
       "0                  85         1          0.488389             0.239404   \n",
       "1                  87         1          5.748312             3.651621   \n",
       "2                  98         1          0.544738             0.318693   \n",
       "3                  96         2          3.719141             1.196112   \n",
       "4                  96         1          1.009922             0.917115   \n",
       "\n",
       "   Attraction.Index  Normalised.Attraction.Index  Restraunt.Index  \\\n",
       "0        631.176378                    33.421209       837.280757   \n",
       "1         75.275877                     3.985908        95.386955   \n",
       "2        552.830324                    29.272733       815.305740   \n",
       "3        106.226456                     5.624761       133.876202   \n",
       "4        409.858124                    21.702260       555.114276   \n",
       "\n",
       "   Normalised.Restraunt.Index  \n",
       "0                   58.342928  \n",
       "1                    6.646700  \n",
       "2                   56.811677  \n",
       "3                    9.328686  \n",
       "4                   38.681161  "
      ]
     },
     "execution_count": 19,
     "metadata": {},
     "output_type": "execute_result"
    }
   ],
   "source": [
    "x_train.head()"
   ]
  },
  {
   "attachments": {},
   "cell_type": "markdown",
   "metadata": {},
   "source": [
    "## the basic lr model for all features"
   ]
  },
  {
   "cell_type": "code",
   "execution_count": 20,
   "metadata": {},
   "outputs": [
    {
     "name": "stdout",
     "output_type": "stream",
     "text": [
      "\n",
      "MAE of Linear Regression :  0.35570350120114774\n",
      "\n",
      "MSE of Linear Regression :  0.2156368808044554\n",
      "\n",
      "RMSE of Linear Regression:  0.4643671831691548\n",
      "\n",
      "R2 of Linear Regression  :  0.37105719329414844\n"
     ]
    }
   ],
   "source": [
    "lr=LinearRegression() #normalized data will improve the processing speed \n",
    "lr.fit(x_train,y_train)\n",
    "y_pred_lr=lr.predict(x_test)\n",
    "\n",
    "mae_lr = metrics.mean_absolute_error(y_test, y_pred_lr)\n",
    "mse_lr = metrics.mean_squared_error(y_test, y_pred_lr)\n",
    "rmse_lr = np.sqrt(mse_lr)\n",
    "r2_lr = metrics.r2_score(y_test, y_pred_lr)\n",
    "\n",
    "print('\\nMAE of Linear Regression : ', mae_lr)\n",
    "print('\\nMSE of Linear Regression : ', mse_lr)\n",
    "print('\\nRMSE of Linear Regression: ', rmse_lr)\n",
    "print('\\nR2 of Linear Regression  : ', r2_lr)"
   ]
  },
  {
   "attachments": {},
   "cell_type": "markdown",
   "metadata": {},
   "source": [
    "## Using L1 "
   ]
  },
  {
   "cell_type": "code",
   "execution_count": 21,
   "metadata": {},
   "outputs": [
    {
     "name": "stdout",
     "output_type": "stream",
     "text": [
      "\n",
      "MAE of Linear Regression with L1 :  0.37325401520123225\n",
      "\n",
      "MSE of Linear Regression  with L1:  0.23831941535353018\n",
      "\n",
      "RMSE of Linear Regression with L1:  0.48817969576123316\n",
      "\n",
      "R2 of Linear Regression with L1  :  0.3048996005424971\n"
     ]
    }
   ],
   "source": [
    "# model build and fit\n",
    "l1 = Lasso(alpha=0.1)\n",
    "l1.fit(x_train,y_train)\n",
    "y_pred_l1 = l1.predict(x_test)\n",
    "\n",
    "mae_l1 = metrics.mean_absolute_error(y_test, y_pred_l1)\n",
    "mse_l1 = metrics.mean_squared_error(y_test, y_pred_l1)\n",
    "rmse_l1 = np.sqrt(mse_l1)\n",
    "r2_l1 = metrics.r2_score(y_test, y_pred_l1)\n",
    "\n",
    "print('\\nMAE of Linear Regression with L1 : ', mae_l1)\n",
    "print('\\nMSE of Linear Regression  with L1: ', mse_l1)\n",
    "print('\\nRMSE of Linear Regression with L1: ', rmse_l1)\n",
    "print('\\nR2 of Linear Regression with L1  : ', r2_l1)"
   ]
  },
  {
   "attachments": {},
   "cell_type": "markdown",
   "metadata": {},
   "source": [
    "## l2"
   ]
  },
  {
   "cell_type": "code",
   "execution_count": 22,
   "metadata": {},
   "outputs": [
    {
     "name": "stdout",
     "output_type": "stream",
     "text": [
      "\n",
      "MAE of Linear Regression with L2 :  0.3557035022308756\n",
      "\n",
      "MSE of Linear Regression  with L2:  0.21563690540800645\n",
      "\n",
      "RMSE of Linear Regression with L2:  0.4643672096606375\n",
      "\n",
      "R2 of Linear Regression with L2  :  0.37105712153357384\n"
     ]
    }
   ],
   "source": [
    "# model build and fit\n",
    "l2 = Ridge(alpha=0.1)\n",
    "l2.fit(x_train,y_train)\n",
    "y_pred_l2 = l2.predict(x_test)\n",
    "\n",
    "mae_l2 = metrics.mean_absolute_error(y_test, y_pred_l2)\n",
    "mse_l2 = metrics.mean_squared_error(y_test, y_pred_l2)\n",
    "rmse_l2 = np.sqrt(mse_l2)\n",
    "r2_l2 = metrics.r2_score(y_test, y_pred_l2)\n",
    "\n",
    "print('\\nMAE of Linear Regression with L2 : ', mae_l2)\n",
    "print('\\nMSE of Linear Regression  with L2: ', mse_l2)\n",
    "print('\\nRMSE of Linear Regression with L2: ', rmse_l2)\n",
    "print('\\nR2 of Linear Regression with L2  : ', r2_l2)"
   ]
  },
  {
   "attachments": {},
   "cell_type": "markdown",
   "metadata": {},
   "source": [
    "## USING gridsearch polynomial non linear"
   ]
  },
  {
   "cell_type": "code",
   "execution_count": 8,
   "metadata": {},
   "outputs": [
    {
     "name": "stdout",
     "output_type": "stream",
     "text": [
      "{'poly__degree': 1, 'reg__fit_intercept': True}\n",
      "\n",
      "MAE of best subset :  105.65500109747224\n",
      "\n",
      "MSE of best subset :  61045.624670383855\n",
      "\n",
      "RMSE of best subset:  247.07412788550698\n",
      "\n",
      "R2 of best subset  :  0.17940344583563816\n"
     ]
    }
   ],
   "source": [
    "# Define a Pipeline object with two steps, PolynomialFeatures and LinearRegression\n",
    "pipeline = Pipeline([\n",
    "    ('poly', PolynomialFeatures()),\n",
    "    ('reg', LinearRegression())\n",
    "])\n",
    "\n",
    "# Define a parameter dictionary containing two parameters, degree and fit_intercept, for the GridSearchCV method to search for the best subset\n",
    "params = {\n",
    "    'poly__degree': [1, 2, 3, 4, 5, 6],\n",
    "    'reg__fit_intercept': [True, False]\n",
    "}\n",
    "\n",
    "# Define a GridSearchCV object to search for the best subset\n",
    "grid_search = GridSearchCV(pipeline, params, cv=5, scoring='neg_mean_squared_error')\n",
    "grid_search.fit(x_train, y_train)\n",
    "\n",
    "# Output the best subset\n",
    "print(grid_search.best_params_)\n",
    "\n",
    "y_pred_cv = grid_search.predict(x_test)\n",
    "mae_cv = metrics.mean_absolute_error(y_test, y_pred_cv)\n",
    "mse_cv = metrics.mean_squared_error(y_test, y_pred_cv)\n",
    "rmse_cv = np.sqrt(mse_cv)\n",
    "r2_cv = metrics.r2_score(y_test, y_pred_cv)\n",
    "\n",
    "print('\\nMAE of best subset : ', mae_cv)\n",
    "print('\\nMSE of best subset : ', mse_cv)\n",
    "print('\\nRMSE of best subset: ', rmse_cv)\n",
    "print('\\nR2 of best subset  : ', r2_cv)"
   ]
  },
  {
   "attachments": {},
   "cell_type": "markdown",
   "metadata": {},
   "source": [
    "## minmaxscaler"
   ]
  },
  {
   "cell_type": "code",
   "execution_count": 23,
   "metadata": {},
   "outputs": [
    {
     "name": "stdout",
     "output_type": "stream",
     "text": [
      "\n",
      "MAE of Linear Regression with scaler :  0.35570350120114774\n",
      "\n",
      "MSE of Linear Regression  with scaler:  0.2156368808044554\n",
      "\n",
      "RMSE of Linear Regression with scaler:  0.4643671831691548\n",
      "\n",
      "R2 of Linear Regression with scaler  :  0.37105719329414844\n"
     ]
    }
   ],
   "source": [
    "from sklearn.preprocessing import MinMaxScaler\n",
    "\n",
    "# 进行 MinMax 缩放\n",
    "scaler = MinMaxScaler()\n",
    "x_train_scaled = scaler.fit_transform(x_train)\n",
    "x_test_scaled = scaler.transform(x_test)\n",
    "\n",
    "lr.fit(x_train_scaled,y_train)\n",
    "y_pred_scaler = lr.predict(x_test_scaled)\n",
    "\n",
    "mae_scaler = metrics.mean_absolute_error(y_test, y_pred_scaler)\n",
    "mse_scaler = metrics.mean_squared_error(y_test, y_pred_scaler)\n",
    "rmse_scaler = np.sqrt(mse_scaler)\n",
    "r2_scaler = metrics.r2_score(y_test, y_pred_scaler)\n",
    "\n",
    "print('\\nMAE of Linear Regression with scaler : ', mae_scaler)\n",
    "print('\\nMSE of Linear Regression  with scaler: ', mse_scaler)\n",
    "print('\\nRMSE of Linear Regression with scaler: ', rmse_scaler)\n",
    "print('\\nR2 of Linear Regression with scaler  : ', r2_scaler)"
   ]
  },
  {
   "attachments": {},
   "cell_type": "markdown",
   "metadata": {},
   "source": [
    "## using CV to the best subset selection"
   ]
  },
  {
   "cell_type": "code",
   "execution_count": 24,
   "metadata": {},
   "outputs": [
    {
     "name": "stdout",
     "output_type": "stream",
     "text": [
      "选择后的特征： [False False False False False False False False False  True False False]\n",
      "最优特征数： 1\n"
     ]
    }
   ],
   "source": [
    "from sklearn.feature_selection import RFECV\n",
    "from sklearn.linear_model import LinearRegression\n",
    "from sklearn.preprocessing import StandardScaler\n",
    "\n",
    "# 数据标准化\n",
    "scaler = StandardScaler()\n",
    "X = scaler.fit_transform(x_train)\n",
    "\n",
    "# 递归特征消除交叉验证\n",
    "estimator = LinearRegression()\n",
    "selector = RFECV(estimator, step=1, cv=5)\n",
    "selector.fit(X, y_train)\n",
    "\n",
    "# 打印选择后的特征和最优特征数\n",
    "print('选择后的特征：', selector.support_)\n",
    "print('最优特征数：', selector.n_features_)\n"
   ]
  },
  {
   "cell_type": "code",
   "execution_count": 16,
   "metadata": {},
   "outputs": [
    {
     "name": "stdout",
     "output_type": "stream",
     "text": [
      "<bound method SelectorMixin.get_feature_names_out of RFECV(cv=5, estimator=LinearRegression())>\n"
     ]
    }
   ],
   "source": [
    "print(selector.get_feature_names_out)"
   ]
  }
 ],
 "metadata": {
  "kernelspec": {
   "display_name": "anly503",
   "language": "python",
   "name": "python3"
  },
  "language_info": {
   "codemirror_mode": {
    "name": "ipython",
    "version": 3
   },
   "file_extension": ".py",
   "mimetype": "text/x-python",
   "name": "python",
   "nbconvert_exporter": "python",
   "pygments_lexer": "ipython3",
   "version": "3.10.8"
  },
  "orig_nbformat": 4
 },
 "nbformat": 4,
 "nbformat_minor": 2
}
